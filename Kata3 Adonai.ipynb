{
 "cells": [
  {
   "cell_type": "markdown",
   "metadata": {},
   "source": [
    "# Velocidad de asteroide \n",
    "\n",
    "Estre programa marca una advertencia en caso de que la velocidad de un asteroide es demasiada. "
   ]
  },
  {
   "cell_type": "code",
   "execution_count": 2,
   "metadata": {},
   "outputs": [
    {
     "name": "stdout",
     "output_type": "stream",
     "text": [
      "El asteroide se acerca rapidamente\n"
     ]
    }
   ],
   "source": [
    "velAste = 540\n",
    "\n",
    "if velAste > 350:\n",
    "    print(\"El asteroide se acerca rapidamente\")\n",
    "\n",
    "else: \n",
    "    print(\"Todo esta en la normalidad\")"
   ]
  },
  {
   "cell_type": "markdown",
   "metadata": {},
   "source": [
    "# Luces en el cielo \n",
    "\n",
    "Con base a la velocidad de un asteroide se puede determinar se se ve algo en la tierra "
   ]
  },
  {
   "cell_type": "code",
   "execution_count": 3,
   "metadata": {},
   "outputs": [
    {
     "name": "stdout",
     "output_type": "stream",
     "text": [
      "Sal de tu casa, puedes ver luces en el cielo\n"
     ]
    }
   ],
   "source": [
    "velAste = 19\n",
    "\n",
    "if velAste > 15:\n",
    "    print(\"Sal de tu casa, puedes ver luces en el cielo\")\n",
    "elif velAste == 15:\n",
    "    print(\"Sal de tu casa, puedes ver luces en el cielo\")\n",
    "else:\n",
    "    print(\"Lo sentimos, no puedes ver luces en el cielo\")"
   ]
  },
  {
   "cell_type": "markdown",
   "metadata": {},
   "source": [
    "# Advertencia sobre asteroide \n",
    "\n",
    "Este programa da varias advertencias con respecto al tamaño y la velocidad"
   ]
  },
  {
   "cell_type": "code",
   "execution_count": 4,
   "metadata": {},
   "outputs": [
    {
     "name": "stdout",
     "output_type": "stream",
     "text": [
      "Alerta el asteroide esta muy cerca\n"
     ]
    }
   ],
   "source": [
    "velAste = 540\n",
    "tamaAste = 600\n",
    "\n",
    "if velAste >= 540 and tamaAste >= 540:\n",
    "    print(\"Alerta el asteroide esta muy cerca\")\n",
    "elif velAste < 540 and tamaAste > 540:\n",
    "    print(\"Puedes ver luces en el cielo\")\n",
    "elif velAste < 540 and tamaAste < 540:\n",
    "    print(\"No hay nada que ver\")\n"
   ]
  },
  {
   "cell_type": "code",
   "execution_count": null,
   "metadata": {},
   "outputs": [],
   "source": []
  }
 ],
 "metadata": {
  "interpreter": {
   "hash": "25050cceeca0761a7648f000b242f82aa1a68f25090966cfeeaa1aa4ebb10a46"
  },
  "kernelspec": {
   "display_name": "Python 3.10.2 64-bit (windows store)",
   "language": "python",
   "name": "python3"
  },
  "language_info": {
   "codemirror_mode": {
    "name": "ipython",
    "version": 3
   },
   "file_extension": ".py",
   "mimetype": "text/x-python",
   "name": "python",
   "nbconvert_exporter": "python",
   "pygments_lexer": "ipython3",
   "version": "3.10.2"
  },
  "orig_nbformat": 4
 },
 "nbformat": 4,
 "nbformat_minor": 2
}
