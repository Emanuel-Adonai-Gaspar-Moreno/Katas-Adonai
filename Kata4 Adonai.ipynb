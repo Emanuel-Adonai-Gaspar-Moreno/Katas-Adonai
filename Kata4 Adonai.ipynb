{
  "cells": [
    {
      "cell_type": "markdown",
      "metadata": {},
      "source": [
        "# Ejercicio 1 Transformar Cadena\n",
        "\n",
        "Este programa transforma una cadena en diferntes parametros "
      ]
    },
    {
      "cell_type": "code",
      "execution_count": 143,
      "metadata": {},
      "outputs": [
        {
          "data": {
            "text/plain": [
              "['Interesting facts about the Moon',\n",
              " \"The Moon is Earth's only satellite\",\n",
              " 'There are several interesting facts about the Moon and how it affects life here on Earth',\n",
              " '\\nOn average, the Moon moves 4cm away from the Earth every year',\n",
              " 'This yearly drift is not significant enough to cause immediate effects on Earth',\n",
              " 'The highest daylight temperature of the Moon is 127 C.']"
            ]
          },
          "execution_count": 143,
          "metadata": {},
          "output_type": "execute_result"
        }
      ],
      "source": [
        "texto = \"\"\"Interesting facts about the Moon. The Moon is Earth's only satellite. There are several interesting facts about the Moon and how it affects life here on Earth. \n",
        "On average, the Moon moves 4cm away from the Earth every year. This yearly drift is not significant enough to cause immediate effects on Earth. The highest daylight temperature of the Moon is 127 C.\"\"\"\n",
        "\n",
        "# Esta parte del código divide el texto\n",
        "\n",
        "texto.split('. ')"
      ]
    },
    {
      "cell_type": "code",
      "execution_count": 144,
      "metadata": {},
      "outputs": [],
      "source": [
        "palabrasC= ['Moon', 'temperature', 'distance']"
      ]
    },
    {
      "cell_type": "code",
      "execution_count": 145,
      "metadata": {},
      "outputs": [
        {
          "name": "stdout",
          "output_type": "stream",
          "text": [
            "Interesting facts about the Moon\n",
            "The Moon is Earth's only satellite\n",
            "There are several interesting facts about the Moon and how it affects life here on Earth\n",
            "\n",
            "On average, the Moon moves 4cm away from the Earth every year\n",
            "The highest daylight temperature of the Moon is 127 C.\n"
          ]
        }
      ],
      "source": [
        "for tx in texto.split('. '):\n",
        "    for palabrasC in palabrasC:\n",
        "        if palabrasC in tx:\n",
        "            print(tx)\n",
        "            break"
      ]
    },
    {
      "cell_type": "code",
      "execution_count": 146,
      "metadata": {},
      "outputs": [
        {
          "name": "stdout",
          "output_type": "stream",
          "text": [
            "Interesting facts about the Moon\n",
            "The Moon is Earth's only satellite\n",
            "There are several interesting facts about the Moon and how it affects life here on Earth\n",
            "\n",
            "On average, the Moon moves 4cm away from the Earth every year\n",
            "This yearly drift is not significant enough to cause immediate effects on Earth\n",
            "The highest daylight temperature of the Moon is 127 Celsius.\n"
          ]
        }
      ],
      "source": [
        "for tx in texto.split('. '):\n",
        "    for kpalabrasC in palabrasC:\n",
        "        if kpalabrasC in palabrasC:\n",
        "            print(tx.replace(' C', ' Celsius'))\n",
        "            break"
      ]
    },
    {
      "cell_type": "markdown",
      "metadata": {},
      "source": [
        "# Ejercicio 2: Formateando Cadenas\n",
        "\n"
      ]
    },
    {
      "cell_type": "code",
      "execution_count": 147,
      "metadata": {},
      "outputs": [],
      "source": [
        "# Datos con los que vas a trabajar\n",
        "nom = \"Moon\"\n",
        "gra = 0.00162 # in kms\n",
        "pla = \"Earth\""
      ]
    },
    {
      "cell_type": "code",
      "execution_count": 148,
      "metadata": {},
      "outputs": [],
      "source": [
        "# se crea un titulo\n",
        "titulo = f'datos de gravedad sobre {nom}'"
      ]
    },
    {
      "cell_type": "code",
      "execution_count": 149,
      "metadata": {},
      "outputs": [],
      "source": [
        "# se crea una plantilla \n",
        "\n",
        "Sucesos = f\"\"\"Nombre del planeta: {pla} Gravedad en {nom}: {round(gra*1000,2)} m/s2 \"\"\""
      ]
    },
    {
      "cell_type": "code",
      "execution_count": 150,
      "metadata": {},
      "outputs": [
        {
          "name": "stdout",
          "output_type": "stream",
          "text": [
            "Nombre del planeta: Earth Gravedad en Moon: 1.62 m/s2 \n"
          ]
        }
      ],
      "source": [
        "# Union de las plantillas \n",
        "union = f\"\"\"{titulo.title()} {Sucesos} \"\"\" \n",
        "print(Sucesos)"
      ]
    },
    {
      "cell_type": "code",
      "execution_count": 151,
      "metadata": {},
      "outputs": [],
      "source": [
        "# Se dan nuevos datos de una luna diferente \n",
        "plan = 'Marte '\n",
        "grav  = 0.00143\n",
        "nom = 'Ganímedes'"
      ]
    },
    {
      "cell_type": "code",
      "execution_count": 152,
      "metadata": {},
      "outputs": [
        {
          "name": "stdout",
          "output_type": "stream",
          "text": [
            "Nombre del planeta: Earth Gravedad en Moon: 1.62 m/s2 \n"
          ]
        }
      ],
      "source": [
        "# Se comprueba la plantilla \n",
        "print(Sucesos)"
      ]
    },
    {
      "cell_type": "code",
      "execution_count": 153,
      "metadata": {},
      "outputs": [
        {
          "name": "stdout",
          "output_type": "stream",
          "text": [
            "Datos de Gravedad sobre: Ganímedes, Nombre del planeta: Marte , Gravedad en Ganímedes: 0.00143 m/s2\n"
          ]
        }
      ],
      "source": [
        "# Se crea nueva plantilla \n",
        "nuevaP = \"\"\"Datos de Gravedad sobre: {nom}, Nombre del planeta: {plan}, Gravedad en {nom}: {grav} m/s2\"\"\"\n",
        "print(nuevaP.format(nom=nom, plan=plan, grav=grav))"
      ]
    },
    {
      "cell_type": "code",
      "execution_count": 154,
      "metadata": {},
      "outputs": [
        {
          "name": "stdout",
          "output_type": "stream",
          "text": [
            "Datos de Gravedad sobre: Ganímedes, Nombre del planeta: Marte , Gravedad en Ganímedes: 1.43 m/s2\n"
          ]
        }
      ],
      "source": [
        "print(nuevaP.format(nom=nom, plan=plan, grav=round(grav*1000,2)))"
      ]
    }
  ],
  "metadata": {
    "interpreter": {
      "hash": "5d53f4a174e39610df10d1309453c73e6a99c6835ecfefb507b27135ca511bce"
    },
    "kernelspec": {
      "display_name": "Python 3.10.2 64-bit",
      "language": "python",
      "name": "python3"
    },
    "language_info": {
      "codemirror_mode": {
        "name": "ipython",
        "version": 3
      },
      "file_extension": ".py",
      "mimetype": "text/x-python",
      "name": "python",
      "nbconvert_exporter": "python",
      "pygments_lexer": "ipython3",
      "version": "3.10.2"
    },
    "orig_nbformat": 4
  },
  "nbformat": 4,
  "nbformat_minor": 2
}
