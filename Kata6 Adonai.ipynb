{
 "cells": [
  {
   "cell_type": "markdown",
   "metadata": {},
   "source": [
    "# Uso de listas "
   ]
  },
  {
   "cell_type": "code",
   "execution_count": 22,
   "metadata": {},
   "outputs": [
    {
     "name": "stdout",
     "output_type": "stream",
     "text": [
      "El total de palnetas son:  7\n"
     ]
    }
   ],
   "source": [
    "# Se crea una lista de los planetas y se imprime\n",
    "\n",
    "planetas = ['Mercurio', 'Venus', 'Tierra', 'Marte', 'Jupiter', 'Saturno', 'Neptuno']\n",
    "\n",
    "print('El total de palnetas son: ', len(planetas))"
   ]
  },
  {
   "cell_type": "code",
   "execution_count": 23,
   "metadata": {},
   "outputs": [
    {
     "name": "stdout",
     "output_type": "stream",
     "text": [
      "pluton es ultimo planeta\n"
     ]
    }
   ],
   "source": [
    "# Se agrega pluton \n",
    "\n",
    "planetas.append('pluton')\n",
    "\n",
    "print(planetas[-1], 'es ultimo planeta')"
   ]
  },
  {
   "cell_type": "markdown",
   "metadata": {},
   "source": [
    "# Uso de datos en una lista"
   ]
  },
  {
   "cell_type": "code",
   "execution_count": 24,
   "metadata": {},
   "outputs": [],
   "source": [
    "# Se crea una lista de los planetas y se imprime\n",
    "\n",
    "planetas = ['Mercurio', 'Venus', 'Tierra', 'Marte', 'Jupiter', 'Saturno', 'Neptuno']"
   ]
  },
  {
   "cell_type": "code",
   "execution_count": 25,
   "metadata": {},
   "outputs": [],
   "source": [
    "# Se pide un planeta \n",
    "\n",
    "NomP = input('Ingrese el nombre del planeta (con una letra mayúscula para comenzar)')"
   ]
  },
  {
   "cell_type": "code",
   "execution_count": 26,
   "metadata": {},
   "outputs": [],
   "source": [
    "# Busqueda ed planeta \n",
    "\n",
    "busP = planetas.index(NomP)"
   ]
  },
  {
   "cell_type": "code",
   "execution_count": 27,
   "metadata": {},
   "outputs": [
    {
     "name": "stdout",
     "output_type": "stream",
     "text": [
      "Aquí están los planetas más cerca de Mercurio\n",
      "[]\n"
     ]
    }
   ],
   "source": [
    "# Muestra el palaneta \n",
    "\n",
    "print('Aquí están los planetas más cerca de ' + NomP)\n",
    "print(planetas[0:busP])"
   ]
  },
  {
   "cell_type": "code",
   "execution_count": 28,
   "metadata": {},
   "outputs": [
    {
     "name": "stdout",
     "output_type": "stream",
     "text": [
      "Here are the planets further than Mercurio\n",
      "['Venus', 'Tierra', 'Marte', 'Jupiter', 'Saturno', 'Neptuno']\n"
     ]
    }
   ],
   "source": [
    "# Muestra planeta mas alejados al sol\n",
    "\n",
    "print('Aquí están los planetas más lejos que:  ' + NomP)\n",
    "print(planetas[busP + 1:])"
   ]
  }
 ],
 "metadata": {
  "interpreter": {
   "hash": "5d53f4a174e39610df10d1309453c73e6a99c6835ecfefb507b27135ca511bce"
  },
  "kernelspec": {
   "display_name": "Python 3.10.2 64-bit",
   "language": "python",
   "name": "python3"
  },
  "language_info": {
   "codemirror_mode": {
    "name": "ipython",
    "version": 3
   },
   "file_extension": ".py",
   "mimetype": "text/x-python",
   "name": "python",
   "nbconvert_exporter": "python",
   "pygments_lexer": "ipython3",
   "version": "3.10.2"
  },
  "orig_nbformat": 4
 },
 "nbformat": 4,
 "nbformat_minor": 2
}
